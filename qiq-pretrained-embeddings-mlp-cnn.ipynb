{
 "cells": [
  {
   "cell_type": "markdown",
   "metadata": {
    "papermill": {
     "duration": 0.050595,
     "end_time": "2021-01-23T06:51:08.019342",
     "exception": false,
     "start_time": "2021-01-23T06:51:07.968747",
     "status": "completed"
    },
    "tags": []
   },
   "source": [
    "### Quora insincere question classification\n",
    "\n",
    "- In part 1:\n",
    "            EDA\n",
    "            Preprocessing the data\n",
    "            used TFIDF for feature extraction\n",
    "            Experiment-1 : only derived Features + Logistic Regression and Trees\n",
    "            Experiment-2 : TFIDF vectorizer + Logistic Regression\n",
    "            Experiment-3 : TFIDF vectorizer + Feature Engineering + Logistic Regression.\n",
    "        \n",
    "    Here is the link https://www.kaggle.com/sai24kumar/qiq-classification-logistic-regression\n",
    "            \n",
    "            \n",
    "- Part 2:\n",
    "           Experiment 1: Pretrained Word Embeddings + Logistic Regression\n",
    "           Experiment 2: Pretrained Word Embeddings + Multi_layer perceptron \n",
    "           Experiment 3: Pretrained Word Embeddings + Convolutional networks"
   ]
  },
  {
   "cell_type": "code",
   "execution_count": 1,
   "metadata": {
    "_cell_guid": "79c7e3d0-c299-4dcb-8224-4455121ee9b0",
    "_uuid": "d629ff2d2480ee46fbb7e2d37f6b5fab8052498a",
    "execution": {
     "iopub.execute_input": "2021-01-23T06:51:08.119406Z",
     "iopub.status.busy": "2021-01-23T06:51:08.118638Z",
     "iopub.status.idle": "2021-01-23T06:51:14.832147Z",
     "shell.execute_reply": "2021-01-23T06:51:14.830916Z"
    },
    "papermill": {
     "duration": 6.767939,
     "end_time": "2021-01-23T06:51:14.832321",
     "exception": false,
     "start_time": "2021-01-23T06:51:08.064382",
     "status": "completed"
    },
    "tags": []
   },
   "outputs": [],
   "source": [
    "##importing the modules\n",
    "import pandas as pd\n",
    "import numpy as np\n",
    "from gensim.models import KeyedVectors\n",
    "from nltk.tokenize import word_tokenize\n",
    "import re\n",
    "import gc\n",
    "import seaborn as sbn\n",
    "## for the progress bar we are importing the tqdm\n",
    "from tqdm import tqdm\n",
    "\n",
    "from keras.preprocessing.text import Tokenizer\n",
    "### splitting the trainset and test set\n",
    "from sklearn.model_selection import train_test_split\n",
    "from sklearn import metrics\n"
   ]
  },
  {
   "cell_type": "code",
   "execution_count": 2,
   "metadata": {
    "execution": {
     "iopub.execute_input": "2021-01-23T06:51:14.939809Z",
     "iopub.status.busy": "2021-01-23T06:51:14.939061Z",
     "iopub.status.idle": "2021-01-23T06:51:20.300873Z",
     "shell.execute_reply": "2021-01-23T06:51:20.299723Z"
    },
    "papermill": {
     "duration": 5.422703,
     "end_time": "2021-01-23T06:51:20.300993",
     "exception": false,
     "start_time": "2021-01-23T06:51:14.878290",
     "status": "completed"
    },
    "tags": []
   },
   "outputs": [],
   "source": [
    "### Loading the dataset\n",
    "train_data=pd.read_csv(\"../input/quora-insincere-questions-classification/train.csv\")\n",
    "test_data=pd.read_csv(\"../input/quora-insincere-questions-classification/test.csv\")"
   ]
  },
  {
   "cell_type": "code",
   "execution_count": 3,
   "metadata": {
    "execution": {
     "iopub.execute_input": "2021-01-23T06:51:20.439962Z",
     "iopub.status.busy": "2021-01-23T06:51:20.438999Z",
     "iopub.status.idle": "2021-01-23T06:51:20.457083Z",
     "shell.execute_reply": "2021-01-23T06:51:20.457608Z"
    },
    "papermill": {
     "duration": 0.072683,
     "end_time": "2021-01-23T06:51:20.457745",
     "exception": false,
     "start_time": "2021-01-23T06:51:20.385062",
     "status": "completed"
    },
    "tags": []
   },
   "outputs": [
    {
     "data": {
      "text/html": [
       "<div>\n",
       "<style scoped>\n",
       "    .dataframe tbody tr th:only-of-type {\n",
       "        vertical-align: middle;\n",
       "    }\n",
       "\n",
       "    .dataframe tbody tr th {\n",
       "        vertical-align: top;\n",
       "    }\n",
       "\n",
       "    .dataframe thead th {\n",
       "        text-align: right;\n",
       "    }\n",
       "</style>\n",
       "<table border=\"1\" class=\"dataframe\">\n",
       "  <thead>\n",
       "    <tr style=\"text-align: right;\">\n",
       "      <th></th>\n",
       "      <th>qid</th>\n",
       "      <th>question_text</th>\n",
       "      <th>target</th>\n",
       "    </tr>\n",
       "  </thead>\n",
       "  <tbody>\n",
       "    <tr>\n",
       "      <th>0</th>\n",
       "      <td>00002165364db923c7e6</td>\n",
       "      <td>How did Quebec nationalists see their province...</td>\n",
       "      <td>0</td>\n",
       "    </tr>\n",
       "    <tr>\n",
       "      <th>1</th>\n",
       "      <td>000032939017120e6e44</td>\n",
       "      <td>Do you have an adopted dog, how would you enco...</td>\n",
       "      <td>0</td>\n",
       "    </tr>\n",
       "    <tr>\n",
       "      <th>2</th>\n",
       "      <td>0000412ca6e4628ce2cf</td>\n",
       "      <td>Why does velocity affect time? Does velocity a...</td>\n",
       "      <td>0</td>\n",
       "    </tr>\n",
       "    <tr>\n",
       "      <th>3</th>\n",
       "      <td>000042bf85aa498cd78e</td>\n",
       "      <td>How did Otto von Guericke used the Magdeburg h...</td>\n",
       "      <td>0</td>\n",
       "    </tr>\n",
       "    <tr>\n",
       "      <th>4</th>\n",
       "      <td>0000455dfa3e01eae3af</td>\n",
       "      <td>Can I convert montra helicon D to a mountain b...</td>\n",
       "      <td>0</td>\n",
       "    </tr>\n",
       "  </tbody>\n",
       "</table>\n",
       "</div>"
      ],
      "text/plain": [
       "                    qid                                      question_text  \\\n",
       "0  00002165364db923c7e6  How did Quebec nationalists see their province...   \n",
       "1  000032939017120e6e44  Do you have an adopted dog, how would you enco...   \n",
       "2  0000412ca6e4628ce2cf  Why does velocity affect time? Does velocity a...   \n",
       "3  000042bf85aa498cd78e  How did Otto von Guericke used the Magdeburg h...   \n",
       "4  0000455dfa3e01eae3af  Can I convert montra helicon D to a mountain b...   \n",
       "\n",
       "   target  \n",
       "0       0  \n",
       "1       0  \n",
       "2       0  \n",
       "3       0  \n",
       "4       0  "
      ]
     },
     "metadata": {},
     "output_type": "display_data"
    }
   ],
   "source": [
    "## displaying the dataset\n",
    "display(train_data.head())"
   ]
  },
  {
   "cell_type": "code",
   "execution_count": 4,
   "metadata": {
    "execution": {
     "iopub.execute_input": "2021-01-23T06:51:20.816629Z",
     "iopub.status.busy": "2021-01-23T06:51:20.815655Z",
     "iopub.status.idle": "2021-01-23T06:51:20.911984Z",
     "shell.execute_reply": "2021-01-23T06:51:20.912531Z"
    },
    "papermill": {
     "duration": 0.410301,
     "end_time": "2021-01-23T06:51:20.912705",
     "exception": false,
     "start_time": "2021-01-23T06:51:20.502404",
     "status": "completed"
    },
    "tags": []
   },
   "outputs": [
    {
     "data": {
      "text/plain": [
       "qid              0\n",
       "question_text    0\n",
       "target           0\n",
       "dtype: int64"
      ]
     },
     "metadata": {},
     "output_type": "display_data"
    },
    {
     "data": {
      "text/plain": [
       "qid              0\n",
       "question_text    0\n",
       "dtype: int64"
      ]
     },
     "metadata": {},
     "output_type": "display_data"
    }
   ],
   "source": [
    "### Printing the missing values in the dataset\n",
    "display(train_data.isnull().sum())\n",
    "display(test_data.isnull().sum())"
   ]
  },
  {
   "cell_type": "markdown",
   "metadata": {
    "papermill": {
     "duration": 0.047263,
     "end_time": "2021-01-23T06:51:21.006741",
     "exception": false,
     "start_time": "2021-01-23T06:51:20.959478",
     "status": "completed"
    },
    "tags": []
   },
   "source": [
    "### To preprocess we are anlyzing with the google news word2vec embedding pretrained models."
   ]
  },
  {
   "cell_type": "markdown",
   "metadata": {
    "papermill": {
     "duration": 0.048332,
     "end_time": "2021-01-23T06:51:21.101641",
     "exception": false,
     "start_time": "2021-01-23T06:51:21.053309",
     "status": "completed"
    },
    "tags": []
   },
   "source": [
    "### Preprocessing\n",
    "\n",
    "- When we are using the preptrained embeddings then no need to normalize the words like converting from uppercase to lower case.\n",
    "- No need to remove stopwords.\n",
    "- Here we need to preprocess according to the embedding we use."
   ]
  },
  {
   "cell_type": "code",
   "execution_count": 5,
   "metadata": {
    "execution": {
     "iopub.execute_input": "2021-01-23T06:51:21.203249Z",
     "iopub.status.busy": "2021-01-23T06:51:21.202464Z",
     "iopub.status.idle": "2021-01-23T06:55:14.661455Z",
     "shell.execute_reply": "2021-01-23T06:55:14.660622Z"
    },
    "papermill": {
     "duration": 233.513354,
     "end_time": "2021-01-23T06:55:14.661622",
     "exception": false,
     "start_time": "2021-01-23T06:51:21.148268",
     "status": "completed"
    },
    "tags": []
   },
   "outputs": [
    {
     "name": "stdout",
     "output_type": "stream",
     "text": [
      "Archive:  ../input/quora-insincere-questions-classification/embeddings.zip\r\n",
      "   creating: GoogleNews-vectors-negative300/\r\n",
      "   creating: glove.840B.300d/\r\n",
      "   creating: paragram_300_sl999/\r\n",
      "   creating: wiki-news-300d-1M/\r\n",
      "  inflating: glove.840B.300d/glove.840B.300d.txt  \r\n",
      "  inflating: GoogleNews-vectors-negative300/GoogleNews-vectors-negative300.bin  \r\n",
      "  inflating: wiki-news-300d-1M/wiki-news-300d-1M.vec  \r\n",
      "  inflating: paragram_300_sl999/README.txt  \r\n",
      "  inflating: paragram_300_sl999/paragram_300_sl999.txt  \r\n",
      "CPU times: user 4.37 s, sys: 805 ms, total: 5.18 s\n",
      "Wall time: 3min 51s\n"
     ]
    }
   ],
   "source": [
    "%%time\n",
    "\n",
    "!unzip ../input/quora-insincere-questions-classification/embeddings.zip"
   ]
  },
  {
   "cell_type": "markdown",
   "metadata": {
    "papermill": {
     "duration": 2.005722,
     "end_time": "2021-01-23T06:55:18.306962",
     "exception": false,
     "start_time": "2021-01-23T06:55:16.301240",
     "status": "completed"
    },
    "tags": []
   },
   "source": [
    "## Experiment 1: Pretrained Word Embedding + tranditional Machinelearning models\n",
    "\n",
    "-  Here I am using the Google's word2vec pretrained model\n",
    "-  This prerained model will return the embedding vector for the each word but we want the vector for the whole sentence.\n",
    "- So we will average the Embedding vectors of words in a documnet"
   ]
  },
  {
   "cell_type": "markdown",
   "metadata": {
    "papermill": {
     "duration": 0.168933,
     "end_time": "2021-01-23T06:55:20.060526",
     "exception": false,
     "start_time": "2021-01-23T06:55:19.891593",
     "status": "completed"
    },
    "tags": []
   },
   "source": [
    "### Extracting the Features using the Pretrained word Embeddings"
   ]
  },
  {
   "cell_type": "markdown",
   "metadata": {
    "papermill": {
     "duration": 0.138039,
     "end_time": "2021-01-23T06:55:20.382763",
     "exception": false,
     "start_time": "2021-01-23T06:55:20.244724",
     "status": "completed"
    },
    "tags": []
   },
   "source": [
    "- Here we will load the google word2vec model with the help of gensim\n",
    "- By this word to vec we will represent the words in to vector and we will average the word to vec for the whole sentence."
   ]
  },
  {
   "cell_type": "code",
   "execution_count": 6,
   "metadata": {
    "execution": {
     "iopub.execute_input": "2021-01-23T06:55:20.493068Z",
     "iopub.status.busy": "2021-01-23T06:55:20.492369Z",
     "iopub.status.idle": "2021-01-23T06:55:20.494240Z",
     "shell.execute_reply": "2021-01-23T06:55:20.493649Z"
    },
    "papermill": {
     "duration": 0.058604,
     "end_time": "2021-01-23T06:55:20.494346",
     "exception": false,
     "start_time": "2021-01-23T06:55:20.435742",
     "status": "completed"
    },
    "tags": []
   },
   "outputs": [],
   "source": [
    "from gensim.models import KeyedVectors"
   ]
  },
  {
   "cell_type": "code",
   "execution_count": 7,
   "metadata": {
    "execution": {
     "iopub.execute_input": "2021-01-23T06:55:20.598568Z",
     "iopub.status.busy": "2021-01-23T06:55:20.597900Z",
     "iopub.status.idle": "2021-01-23T06:56:08.909012Z",
     "shell.execute_reply": "2021-01-23T06:56:08.909643Z"
    },
    "papermill": {
     "duration": 48.366204,
     "end_time": "2021-01-23T06:56:08.909799",
     "exception": false,
     "start_time": "2021-01-23T06:55:20.543595",
     "status": "completed"
    },
    "tags": []
   },
   "outputs": [
    {
     "name": "stdout",
     "output_type": "stream",
     "text": [
      "CPU times: user 33.7 s, sys: 4.43 s, total: 38.1 s\n",
      "Wall time: 48.3 s\n"
     ]
    }
   ],
   "source": [
    "%%time\n",
    "file_name=\"./GoogleNews-vectors-negative300/GoogleNews-vectors-negative300.bin\"\n",
    "model=KeyedVectors.load_word2vec_format(file_name,binary=True)"
   ]
  },
  {
   "cell_type": "code",
   "execution_count": 8,
   "metadata": {
    "execution": {
     "iopub.execute_input": "2021-01-23T06:56:09.022796Z",
     "iopub.status.busy": "2021-01-23T06:56:09.021201Z",
     "iopub.status.idle": "2021-01-23T06:56:09.023642Z",
     "shell.execute_reply": "2021-01-23T06:56:09.024316Z"
    },
    "papermill": {
     "duration": 0.065448,
     "end_time": "2021-01-23T06:56:09.024485",
     "exception": false,
     "start_time": "2021-01-23T06:56:08.959037",
     "status": "completed"
    },
    "tags": []
   },
   "outputs": [],
   "source": [
    "### checking the Vocabulary that the number of words are presenved by the w2v.\n",
    "def vocab_build(corpus):\n",
    "    vocab={}\n",
    "    for text in tqdm(corpus):\n",
    "        for word in text.split():\n",
    "            try:\n",
    "                vocab[word]+=1\n",
    "            except KeyError:\n",
    "                vocab[word]=1\n",
    "    return vocab\n",
    "\n",
    "def check_voc(vocab,model):\n",
    "    embed_words=[]\n",
    "    out_vocab={}\n",
    "    total_words=0\n",
    "    total_text=0\n",
    "    for i in tqdm(vocab):\n",
    "        try:\n",
    "            vec=model[i]\n",
    "            embed_words.append(vec)\n",
    "            total_words+=vocab[i]\n",
    "        except KeyError:\n",
    "            out_vocab[i]=vocab[i]\n",
    "            total_text+=vocab[i]\n",
    "    print(\"The {:.2f}% of vocabularies have Covered of corpus\".format(100*len(embed_words)/len(vocab)))\n",
    "    print(\"The {:.2f}% of total text had coverded \".format((100*total_words/(total_words+total_text))))\n",
    "    return out_vocab"
   ]
  },
  {
   "cell_type": "code",
   "execution_count": 9,
   "metadata": {
    "execution": {
     "iopub.execute_input": "2021-01-23T06:56:09.134703Z",
     "iopub.status.busy": "2021-01-23T06:56:09.131794Z",
     "iopub.status.idle": "2021-01-23T06:56:19.258522Z",
     "shell.execute_reply": "2021-01-23T06:56:19.257769Z"
    },
    "papermill": {
     "duration": 10.182825,
     "end_time": "2021-01-23T06:56:19.258661",
     "exception": false,
     "start_time": "2021-01-23T06:56:09.075836",
     "status": "completed"
    },
    "tags": []
   },
   "outputs": [
    {
     "name": "stderr",
     "output_type": "stream",
     "text": [
      "100%|██████████| 1306122/1306122 [00:08<00:00, 160733.36it/s]\n",
      "100%|██████████| 508823/508823 [00:01<00:00, 260596.74it/s]"
     ]
    },
    {
     "name": "stdout",
     "output_type": "stream",
     "text": [
      "The 24.31% of vocabularies have Covered of corpus\n",
      "The 78.75% of total text had coverded \n"
     ]
    },
    {
     "name": "stderr",
     "output_type": "stream",
     "text": [
      "\n"
     ]
    }
   ],
   "source": [
    "vocabulary=vocab_build(train_data.question_text)\n",
    "oov=check_voc(vocabulary,model)"
   ]
  },
  {
   "cell_type": "markdown",
   "metadata": {
    "papermill": {
     "duration": 0.088919,
     "end_time": "2021-01-23T06:56:19.435090",
     "exception": false,
     "start_time": "2021-01-23T06:56:19.346171",
     "status": "completed"
    },
    "tags": []
   },
   "source": [
    "- Here it covered only few vocabulary. so only for 34% of vocabulary got the embeddings.\n"
   ]
  },
  {
   "cell_type": "code",
   "execution_count": 10,
   "metadata": {
    "execution": {
     "iopub.execute_input": "2021-01-23T06:56:19.860496Z",
     "iopub.status.busy": "2021-01-23T06:56:19.859419Z",
     "iopub.status.idle": "2021-01-23T06:56:19.862748Z",
     "shell.execute_reply": "2021-01-23T06:56:19.862179Z"
    },
    "papermill": {
     "duration": 0.339767,
     "end_time": "2021-01-23T06:56:19.862866",
     "exception": false,
     "start_time": "2021-01-23T06:56:19.523099",
     "status": "completed"
    },
    "tags": []
   },
   "outputs": [],
   "source": [
    "import operator\n",
    "sort_oov=dict(sorted(oov.items(), key=operator.itemgetter(1),reverse=True))\n"
   ]
  },
  {
   "cell_type": "code",
   "execution_count": 11,
   "metadata": {
    "execution": {
     "iopub.execute_input": "2021-01-23T06:56:20.718513Z",
     "iopub.status.busy": "2021-01-23T06:56:20.717607Z",
     "iopub.status.idle": "2021-01-23T06:56:20.725717Z",
     "shell.execute_reply": "2021-01-23T06:56:20.725101Z"
    },
    "papermill": {
     "duration": 0.77384,
     "end_time": "2021-01-23T06:56:20.725831",
     "exception": false,
     "start_time": "2021-01-23T06:56:19.951991",
     "status": "completed"
    },
    "tags": []
   },
   "outputs": [
    {
     "name": "stdout",
     "output_type": "stream",
     "text": [
      "['to', 'a', 'of', 'and', 'India?', 'it?', 'do?', 'life?', 'you?', 'me?', 'them?', 'time?', 'world?', 'people?', 'why?', 'Quora?', '10', 'like?', 'for?', 'work?', '2017?', 'mean?', '2018?', 'country?', 'now?', 'this?', 'years?', '2017', 'not?', 'year?', '2018', 'day?', 'person?', 'engineering?', 'school?', 'so,', '-', 'I’m', 'money?', '12']\n"
     ]
    },
    {
     "data": {
      "text/plain": [
       "20"
      ]
     },
     "execution_count": 11,
     "metadata": {},
     "output_type": "execute_result"
    }
   ],
   "source": [
    "print(list(sort_oov.keys())[:40])\n",
    "del sort_oov,oov,vocabulary\n",
    "gc.collect()"
   ]
  },
  {
   "cell_type": "markdown",
   "metadata": {
    "papermill": {
     "duration": 0.093634,
     "end_time": "2021-01-23T06:56:20.905923",
     "exception": false,
     "start_time": "2021-01-23T06:56:20.812289",
     "status": "completed"
    },
    "tags": []
   },
   "source": [
    "- In this dataset have the non english characters which are have in high frequency.\n",
    "- There are special characters were associated with the numbers and characters."
   ]
  },
  {
   "cell_type": "code",
   "execution_count": 12,
   "metadata": {
    "execution": {
     "iopub.execute_input": "2021-01-23T06:56:21.177526Z",
     "iopub.status.busy": "2021-01-23T06:56:21.175035Z",
     "iopub.status.idle": "2021-01-23T06:56:21.259503Z",
     "shell.execute_reply": "2021-01-23T06:56:21.260534Z"
    },
    "papermill": {
     "duration": 0.223753,
     "end_time": "2021-01-23T06:56:21.260744",
     "exception": false,
     "start_time": "2021-01-23T06:56:21.036991",
     "status": "completed"
    },
    "tags": []
   },
   "outputs": [],
   "source": [
    "contractions={\"I'm\": 'I am',\n",
    " \"I'm'a\": 'I am about to',\n",
    " \"I'm'o\": 'I am going to',\n",
    " \"I've\": 'I have',\n",
    " \"I'll\": 'I will',\n",
    " \"I'll've\": 'I will have',\n",
    " \"I'd\": 'I would',\n",
    " \"I'd've\": 'I would have',\n",
    " 'Whatcha': 'What are you',\n",
    " \"amn't\": 'am not',\n",
    " \"ain't\": 'are not',\n",
    " \"aren't\": 'are not',\n",
    " \"'cause\": 'because',\n",
    " \"can't\": 'can not',\n",
    " \"can't've\": 'can not have',\n",
    " \"could've\": 'could have',\n",
    " \"couldn't\": 'could not',\n",
    " \"couldn't've\": 'could not have',\n",
    " \"daren't\": 'dare not',\n",
    " \"daresn't\": 'dare not',\n",
    " \"dasn't\": 'dare not',\n",
    " \"didn't\": 'did not',\n",
    " 'didn’t': 'did not',\n",
    " \"don't\": 'do not',\n",
    " 'don’t': 'do not',\n",
    " \"doesn't\": 'does not',\n",
    " \"e'er\": 'ever',\n",
    " \"everyone's\": 'everyone is',\n",
    " 'finna': 'fixing to',\n",
    " 'gimme': 'give me',\n",
    " \"gon't\": 'go not',\n",
    " 'gonna': 'going to',\n",
    " 'gotta': 'got to',\n",
    " \"hadn't\": 'had not',\n",
    " \"hadn't've\": 'had not have',\n",
    " \"hasn't\": 'has not',\n",
    " \"haven't\": 'have not',\n",
    " \"he've\": 'he have',\n",
    " \"he's\": 'he is',\n",
    " \"he'll\": 'he will',\n",
    " \"he'll've\": 'he will have',\n",
    " \"he'd\": 'he would',\n",
    " \"he'd've\": 'he would have',\n",
    " \"here's\": 'here is',\n",
    " \"how're\": 'how are',\n",
    " \"how'd\": 'how did',\n",
    " \"how'd'y\": 'how do you',\n",
    " \"how's\": 'how is',\n",
    " \"how'll\": 'how will',\n",
    " \"isn't\": 'is not',\n",
    " \"it's\": 'it is',\n",
    " \"'tis\": 'it is',\n",
    " \"'twas\": 'it was',\n",
    " \"it'll\": 'it will',\n",
    " \"it'll've\": 'it will have',\n",
    " \"it'd\": 'it would',\n",
    " \"it'd've\": 'it would have',\n",
    " 'kinda': 'kind of',\n",
    " \"let's\": 'let us',\n",
    " 'luv': 'love',\n",
    " \"ma'am\": 'madam',\n",
    " \"may've\": 'may have',\n",
    " \"mayn't\": 'may not',\n",
    " \"might've\": 'might have',\n",
    " \"mightn't\": 'might not',\n",
    " \"mightn't've\": 'might not have',\n",
    " \"must've\": 'must have',\n",
    " \"mustn't\": 'must not',\n",
    " \"mustn't've\": 'must not have',\n",
    " \"needn't\": 'need not',\n",
    " \"needn't've\": 'need not have',\n",
    " \"ne'er\": 'never',\n",
    " \"o'\": 'of',\n",
    " \"o'clock\": 'of the clock',\n",
    " \"ol'\": 'old',\n",
    " \"oughtn't\": 'ought not',\n",
    " \"oughtn't've\": 'ought not have',\n",
    " \"o'er\": 'over',\n",
    " \"shan't\": 'shall not',\n",
    " \"sha'n't\": 'shall not',\n",
    " \"shalln't\": 'shall not',\n",
    " \"shan't've\": 'shall not have',\n",
    " \"she's\": 'she is',\n",
    " \"she'll\": 'she will',\n",
    " \"she'd\": 'she would',\n",
    " \"she'd've\": 'she would have',\n",
    " \"should've\": 'should have',\n",
    " \"shouldn't\": 'should not',\n",
    " \"shouldn't've\": 'should not have',\n",
    " \"so've\": 'so have',\n",
    " \"so's\": 'so is',\n",
    " \"somebody's\": 'somebody is',\n",
    " \"someone's\": 'someone is',\n",
    " \"something's\": 'something is',\n",
    " 'sux': 'sucks',\n",
    " \"that're\": 'that are',\n",
    " \"that's\": 'that is',\n",
    " \"that'll\": 'that will',\n",
    " \"that'd\": 'that would',\n",
    " \"that'd've\": 'that would have',\n",
    " 'em': 'them',\n",
    " \"there're\": 'there are',\n",
    " \"there's\": 'there is',\n",
    " \"there'll\": 'there will',\n",
    " \"there'd\": 'there would',\n",
    " \"there'd've\": 'there would have',\n",
    " \"these're\": 'these are',\n",
    " \"they're\": 'they are',\n",
    " \"they've\": 'they have',\n",
    " \"they'll\": 'they will',\n",
    " \"they'll've\": 'they will have',\n",
    " \"they'd\": 'they would',\n",
    " \"they'd've\": 'they would have',\n",
    " \"this's\": 'this is',\n",
    " \"those're\": 'those are',\n",
    " \"to've\": 'to have',\n",
    " 'wanna': 'want to',\n",
    " \"wasn't\": 'was not',\n",
    " \"we're\": 'we are',\n",
    " \"we've\": 'we have',\n",
    " \"we'll\": 'we will',\n",
    " \"we'll've\": 'we will have',\n",
    " \"we'd\": 'we would',\n",
    " \"we'd've\": 'we would have',\n",
    " \"weren't\": 'were not',\n",
    " \"what're\": 'what are',\n",
    " \"what'd\": 'what did',\n",
    " \"what've\": 'what have',\n",
    " \"what's\": 'what is',\n",
    " \"what'll\": 'what will',\n",
    " \"what'll've\": 'what will have',\n",
    " \"when've\": 'when have',\n",
    " \"when's\": 'when is',\n",
    " \"where're\": 'where are',\n",
    " \"where'd\": 'where did',\n",
    " \"where've\": 'where have',\n",
    " \"where's\": 'where is',\n",
    " \"which's\": 'which is',\n",
    " \"who're\": 'who are',\n",
    " \"who've\": 'who have',\n",
    " \"who's\": 'who is',\n",
    " \"who'll\": 'who will',\n",
    " \"who'll've\": 'who will have',\n",
    " \"who'd\": 'who would',\n",
    " \"who'd've\": 'who would have',\n",
    " \"why're\": 'why are',\n",
    " \"why'd\": 'why did',\n",
    " \"why've\": 'why have',\n",
    " \"why's\": 'why is',\n",
    " \"will've\": 'will have',\n",
    " \"won't\": 'will not',\n",
    " \"won't've\": 'will not have',\n",
    " \"would've\": 'would have',\n",
    " \"wouldn't\": 'would not',\n",
    " \"wouldn't've\": 'would not have',\n",
    " \"y'all\": 'you all',\n",
    " \"y'all're\": 'you all are',\n",
    " \"y'all've\": 'you all have',\n",
    " \"y'all'd\": 'you all would',\n",
    " \"y'all'd've\": 'you all would have',\n",
    " \"you're\": 'you are',\n",
    " \"you've\": 'you have',\n",
    " \"you'll've\": 'you shall have',\n",
    " \"you'll\": 'you will',\n",
    " \"you'd\": 'you would',\n",
    " \"you'd've\": 'you would have',\n",
    " 'jan.': 'january',\n",
    " 'feb.': 'february',\n",
    " 'mar.': 'march',\n",
    " 'apr.': 'april',\n",
    " 'jun.': 'june',\n",
    " 'jul.': 'july',\n",
    " 'aug.': 'august',\n",
    " 'sep.': 'september',\n",
    " 'oct.': 'october',\n",
    " 'nov.': 'november',\n",
    " 'dec.': 'december',\n",
    " 'I’m': 'I am',\n",
    " 'I’m’a': 'I am about to',\n",
    " 'I’m’o': 'I am going to',\n",
    " 'I’ve': 'I have',\n",
    " 'I’ll': 'I will',\n",
    " 'I’ll’ve': 'I will have',\n",
    " 'I’d': 'I would',\n",
    " 'I’d’ve': 'I would have',\n",
    " 'amn’t': 'am not',\n",
    " 'ain’t': 'are not',\n",
    " 'aren’t': 'are not',\n",
    " '’cause': 'because',\n",
    " 'can’t': 'can not',\n",
    " 'can’t’ve': 'can not have',\n",
    " 'could’ve': 'could have',\n",
    " 'couldn’t': 'could not',\n",
    " 'couldn’t’ve': 'could not have',\n",
    " 'daren’t': 'dare not',\n",
    " 'daresn’t': 'dare not',\n",
    " 'dasn’t': 'dare not',\n",
    " 'doesn’t': 'does not',\n",
    " 'e’er': 'ever',\n",
    " 'everyone’s': 'everyone is',\n",
    " 'gon’t': 'go not',\n",
    " 'hadn’t': 'had not',\n",
    " 'hadn’t’ve': 'had not have',\n",
    " 'hasn’t': 'has not',\n",
    " 'haven’t': 'have not',\n",
    " 'he’ve': 'he have',\n",
    " 'he’s': 'he is',\n",
    " 'he’ll': 'he will',\n",
    " 'he’ll’ve': 'he will have',\n",
    " 'he’d': 'he would',\n",
    " 'he’d’ve': 'he would have',\n",
    " 'here’s': 'here is',\n",
    " 'how’re': 'how are',\n",
    " 'how’d': 'how did',\n",
    " 'how’d’y': 'how do you',\n",
    " 'how’s': 'how is',\n",
    " 'how’ll': 'how will',\n",
    " 'isn’t': 'is not',\n",
    " 'it’s': 'it is',\n",
    " '’tis': 'it is',\n",
    " '’twas': 'it was',\n",
    " 'it’ll': 'it will',\n",
    " 'it’ll’ve': 'it will have',\n",
    " 'it’d': 'it would',\n",
    " 'it’d’ve': 'it would have',\n",
    " 'let’s': 'let us',\n",
    " 'ma’am': 'madam',\n",
    " 'may’ve': 'may have',\n",
    " 'mayn’t': 'may not',\n",
    " 'might’ve': 'might have',\n",
    " 'mightn’t': 'might not',\n",
    " 'mightn’t’ve': 'might not have',\n",
    " 'must’ve': 'must have',\n",
    " 'mustn’t': 'must not',\n",
    " 'mustn’t’ve': 'must not have',\n",
    " 'needn’t': 'need not',\n",
    " 'needn’t’ve': 'need not have',\n",
    " 'ne’er': 'never',\n",
    " 'o’': 'of',\n",
    " 'o’clock': 'of the clock',\n",
    " 'ol’': 'old',\n",
    " 'oughtn’t': 'ought not',\n",
    " 'oughtn’t’ve': 'ought not have',\n",
    " 'o’er': 'over',\n",
    " 'shan’t': 'shall not',\n",
    " 'sha’n’t': 'shall not',\n",
    " 'shalln’t': 'shall not',\n",
    " 'shan’t’ve': 'shall not have',\n",
    " 'she’s': 'she is',\n",
    " 'she’ll': 'she will',\n",
    " 'she’d': 'she would',\n",
    " 'she’d’ve': 'she would have',\n",
    " 'should’ve': 'should have',\n",
    " 'shouldn’t': 'should not',\n",
    " 'shouldn’t’ve': 'should not have',\n",
    " 'so’ve': 'so have',\n",
    " 'so’s': 'so is',\n",
    " 'somebody’s': 'somebody is',\n",
    " 'someone’s': 'someone is',\n",
    " 'something’s': 'something is',\n",
    " 'that’re': 'that are',\n",
    " 'that’s': 'that is',\n",
    " 'that’ll': 'that will',\n",
    " 'that’d': 'that would',\n",
    " 'that’d’ve': 'that would have',\n",
    " 'there’re': 'there are',\n",
    " 'there’s': 'there is',\n",
    " 'there’ll': 'there will',\n",
    " 'there’d': 'there would',\n",
    " 'there’d’ve': 'there would have',\n",
    " 'these’re': 'these are',\n",
    " 'they’re': 'they are',\n",
    " 'they’ve': 'they have',\n",
    " 'they’ll': 'they will',\n",
    " 'they’ll’ve': 'they will have',\n",
    " 'they’d': 'they would',\n",
    " 'they’d’ve': 'they would have',\n",
    " 'this’s': 'this is',\n",
    " 'those’re': 'those are',\n",
    " 'to’ve': 'to have',\n",
    " 'wasn’t': 'was not',\n",
    " 'we’re': 'we are',\n",
    " 'we’ve': 'we have',\n",
    " 'we’ll': 'we will',\n",
    " 'we’ll’ve': 'we will have',\n",
    " 'we’d': 'we would',\n",
    " 'we’d’ve': 'we would have',\n",
    " 'weren’t': 'were not',\n",
    " 'what’re': 'what are',\n",
    " 'what’d': 'what did',\n",
    " 'what’ve': 'what have',\n",
    " 'what’s': 'what is',\n",
    " 'what’ll': 'what will',\n",
    " 'what’ll’ve': 'what will have',\n",
    " 'when’ve': 'when have',\n",
    " 'when’s': 'when is',\n",
    " 'where’re': 'where are',\n",
    " 'where’d': 'where did',\n",
    " 'where’ve': 'where have',\n",
    " 'where’s': 'where is',\n",
    " 'which’s': 'which is',\n",
    " 'who’re': 'who are',\n",
    " 'who’ve': 'who have',\n",
    " 'who’s': 'who is',\n",
    " 'who’ll': 'who will',\n",
    " 'who’ll’ve': 'who will have',\n",
    " 'who’d': 'who would',\n",
    " 'who’d’ve': 'who would have',\n",
    " 'why’re': 'why are',\n",
    " 'why’d': 'why did',\n",
    " 'why’ve': 'why have',\n",
    " 'why’s': 'why is',\n",
    " 'will’ve': 'will have',\n",
    " 'won’t': 'will not',\n",
    " 'won’t’ve': 'will not have',\n",
    " 'would’ve': 'would have',\n",
    " 'wouldn’t': 'would not',\n",
    " 'wouldn’t’ve': 'would not have',\n",
    " 'y’all': 'you all',\n",
    " 'y’all’re': 'you all are',\n",
    " 'y’all’ve': 'you all have',\n",
    " 'y’all’d': 'you all would',\n",
    " 'y’all’d’ve': 'you all would have',\n",
    " 'you’re': 'you are',\n",
    " 'you’ve': 'you have',\n",
    " 'you’ll’ve': 'you shall have',\n",
    " 'you’ll': 'you will',\n",
    " 'you’d': 'you would',\n",
    " 'you’d’ve': 'you would have'}\n",
    "\n",
    "def contraction_fix(word):\n",
    "    try:\n",
    "        a=contractions[word]\n",
    "    except KeyError:\n",
    "        a=word\n",
    "    return a"
   ]
  },
  {
   "cell_type": "code",
   "execution_count": 13,
   "metadata": {
    "execution": {
     "iopub.execute_input": "2021-01-23T06:56:21.531882Z",
     "iopub.status.busy": "2021-01-23T06:56:21.530834Z",
     "iopub.status.idle": "2021-01-23T06:56:21.535771Z",
     "shell.execute_reply": "2021-01-23T06:56:21.536638Z"
    },
    "papermill": {
     "duration": 0.144706,
     "end_time": "2021-01-23T06:56:21.536806",
     "exception": false,
     "start_time": "2021-01-23T06:56:21.392100",
     "status": "completed"
    },
    "tags": []
   },
   "outputs": [],
   "source": [
    "import re\n",
    "### Preprocess the train dataset \n",
    "def Preprocess(x):\n",
    "    remove_words=[\"to\",\"a\",\"and\",\"of\"]\n",
    "    \n",
    "    x=\" \".join([contraction_fix(w) for w in x.split() if w not in remove_words])        \n",
    "    x=re.sub(r\"[^a-zA-Z0-9]\",\" \",x)\n",
    "    x=re.sub(r'[0-9]{5,}','##### ',x)\n",
    "    x=re.sub(r'[0-9]{4}',\"#### \",x)\n",
    "    x=re.sub(r'[0-9]{3}','### ',x)\n",
    "    x=re.sub(r'[0-9]{2}',\"## \",x)\n",
    "    x=re.sub(r'[0-9]{1}',\"# \",x)\n",
    "    return x"
   ]
  },
  {
   "cell_type": "code",
   "execution_count": 14,
   "metadata": {
    "execution": {
     "iopub.execute_input": "2021-01-23T06:56:21.971536Z",
     "iopub.status.busy": "2021-01-23T06:56:21.950964Z",
     "iopub.status.idle": "2021-01-23T06:57:26.202630Z",
     "shell.execute_reply": "2021-01-23T06:57:26.203349Z"
    },
    "papermill": {
     "duration": 64.519531,
     "end_time": "2021-01-23T06:57:26.203545",
     "exception": false,
     "start_time": "2021-01-23T06:56:21.684014",
     "status": "completed"
    },
    "tags": []
   },
   "outputs": [
    {
     "name": "stderr",
     "output_type": "stream",
     "text": [
      "100%|██████████| 1306122/1306122 [00:06<00:00, 210075.08it/s]\n",
      "100%|██████████| 223181/223181 [00:00<00:00, 252193.81it/s]\n"
     ]
    },
    {
     "name": "stdout",
     "output_type": "stream",
     "text": [
      "The 64.57% of vocabularies have Covered of corpus\n",
      "The 98.93% of total text had coverded \n"
     ]
    }
   ],
   "source": [
    "text_data=train_data.question_text.apply(Preprocess)\n",
    "vocab=vocab_build(text_data)\n",
    "oov=check_voc(vocab,model)"
   ]
  },
  {
   "cell_type": "code",
   "execution_count": 15,
   "metadata": {
    "execution": {
     "iopub.execute_input": "2021-01-23T06:57:27.267981Z",
     "iopub.status.busy": "2021-01-23T06:57:26.479685Z",
     "iopub.status.idle": "2021-01-23T06:57:27.277470Z",
     "shell.execute_reply": "2021-01-23T06:57:27.276073Z"
    },
    "papermill": {
     "duration": 0.958266,
     "end_time": "2021-01-23T06:57:27.277623",
     "exception": false,
     "start_time": "2021-01-23T06:57:26.319357",
     "status": "completed"
    },
    "tags": []
   },
   "outputs": [
    {
     "name": "stdout",
     "output_type": "stream",
     "text": [
      "['to', 'a', 'of', 'and', 'WW#', 'favourite', 'bitcoin', 'colour', 'H#', 'centre', 'Quorans', 'cryptocurrency', 'Snapchat', 'travelling', 'B#', 'counselling', 'A#', 'Brexit', 'btech', 'cryptocurrencies']\n"
     ]
    },
    {
     "data": {
      "text/plain": [
       "0"
      ]
     },
     "execution_count": 15,
     "metadata": {},
     "output_type": "execute_result"
    }
   ],
   "source": [
    "sort_oov=dict(sorted(oov.items(), key=operator.itemgetter(1),reverse=True))\n",
    "print(list(sort_oov.keys())[:20])\n",
    "### analysis over we are deleting the unnecessary variables and dealocate those variables \n",
    "del text_data,vocab,oov,sort_oov\n",
    "gc.collect()"
   ]
  },
  {
   "cell_type": "markdown",
   "metadata": {
    "papermill": {
     "duration": 0.187778,
     "end_time": "2021-01-23T06:57:27.649737",
     "exception": false,
     "start_time": "2021-01-23T06:57:27.461959",
     "status": "completed"
    },
    "tags": []
   },
   "source": [
    "- Furthur Preprocess do spell checking and correct those spellings"
   ]
  },
  {
   "cell_type": "code",
   "execution_count": 16,
   "metadata": {
    "execution": {
     "iopub.execute_input": "2021-01-23T06:57:27.954073Z",
     "iopub.status.busy": "2021-01-23T06:57:27.953285Z",
     "iopub.status.idle": "2021-01-23T06:58:27.243878Z",
     "shell.execute_reply": "2021-01-23T06:58:27.242994Z"
    },
    "papermill": {
     "duration": 59.439377,
     "end_time": "2021-01-23T06:58:27.244020",
     "exception": false,
     "start_time": "2021-01-23T06:57:27.804643",
     "status": "completed"
    },
    "tags": []
   },
   "outputs": [],
   "source": [
    "### Preprocessing will be doing according to the Google word2vec\n",
    "train_data.question_text=train_data.question_text.apply(Preprocess)\n",
    "train_data[\"num_words\"]=train_data.question_text.apply(lambda x:len(x.split()))"
   ]
  },
  {
   "cell_type": "markdown",
   "metadata": {
    "papermill": {
     "duration": 0.118964,
     "end_time": "2021-01-23T06:58:27.479423",
     "exception": false,
     "start_time": "2021-01-23T06:58:27.360459",
     "status": "completed"
    },
    "tags": []
   },
   "source": [
    "## Getting Sentence vector from a word2vec Pretrained Embedding models\n",
    "\n",
    "**Some of the Ideas:**\n",
    "\n",
    "Idea 1:\n",
    "        - we will average the all the word embeddings for a each doc .\n",
    "        - So that we can get a fixed 300 dimensional vector representation for a document\n",
    "        \n",
    "Idea 2:\n",
    "        - concatenate the embedded words in a each document.\n",
    "        - But the problem is length of the vector varies with the length of the document.\n",
    "        "
   ]
  },
  {
   "cell_type": "markdown",
   "metadata": {
    "papermill": {
     "duration": 0.121971,
     "end_time": "2021-01-23T06:58:27.715805",
     "exception": false,
     "start_time": "2021-01-23T06:58:27.593834",
     "status": "completed"
    },
    "tags": []
   },
   "source": [
    "### Using Average word2vec"
   ]
  },
  {
   "cell_type": "code",
   "execution_count": 17,
   "metadata": {
    "execution": {
     "iopub.execute_input": "2021-01-23T06:58:27.954177Z",
     "iopub.status.busy": "2021-01-23T06:58:27.953390Z",
     "iopub.status.idle": "2021-01-23T06:58:27.957810Z",
     "shell.execute_reply": "2021-01-23T06:58:27.958337Z"
    },
    "papermill": {
     "duration": 0.126412,
     "end_time": "2021-01-23T06:58:27.958459",
     "exception": false,
     "start_time": "2021-01-23T06:58:27.832047",
     "status": "completed"
    },
    "tags": []
   },
   "outputs": [
    {
     "name": "stdout",
     "output_type": "stream",
     "text": [
      "CPU times: user 4 µs, sys: 0 ns, total: 4 µs\n",
      "Wall time: 7.39 µs\n"
     ]
    }
   ],
   "source": [
    "%%time\n",
    "## defing the function for the getting embedding vectores for the doc i.e Doc2Vec\n",
    "def Doc2Vec(corpus):\n",
    "    vector_sent=[]\n",
    "    for i in tqdm(corpus):\n",
    "        words=i.split()\n",
    "        count=0\n",
    "        avg=np.zeros((300,))\n",
    "        for word in words:\n",
    "            try:\n",
    "                avg=avg+model[word]\n",
    "                count+=1\n",
    "            except KeyError:\n",
    "                continue\n",
    "        if(count!=0):\n",
    "            avg=avg/count\n",
    "        else:\n",
    "            avg=np.zeros((300,))\n",
    "        vector_sent.append(avg)\n",
    "        del avg\n",
    "        \n",
    "        \n",
    "    return np.array(vector_sent)\n"
   ]
  },
  {
   "cell_type": "code",
   "execution_count": 18,
   "metadata": {
    "execution": {
     "iopub.execute_input": "2021-01-23T06:58:28.204391Z",
     "iopub.status.busy": "2021-01-23T06:58:28.202895Z",
     "iopub.status.idle": "2021-01-23T06:58:29.310922Z",
     "shell.execute_reply": "2021-01-23T06:58:29.310116Z"
    },
    "papermill": {
     "duration": 1.234552,
     "end_time": "2021-01-23T06:58:29.311096",
     "exception": false,
     "start_time": "2021-01-23T06:58:28.076544",
     "status": "completed"
    },
    "tags": []
   },
   "outputs": [
    {
     "name": "stdout",
     "output_type": "stream",
     "text": [
      "The shape of the train dataset : (979591,) (979591,)\n",
      "The shape of the Test dataset : (326531,) (326531,)\n"
     ]
    }
   ],
   "source": [
    "x_train,x_val,y_train,y_val=train_test_split(train_data.question_text,train_data.target.values,stratify=train_data.target.values)\n",
    "## printing the shapes of the datasets\n",
    "print(\"The shape of the train dataset :\",x_train.shape,y_train.shape)\n",
    "print(\"The shape of the Test dataset :\",x_val.shape,y_val.shape)"
   ]
  },
  {
   "cell_type": "code",
   "execution_count": 19,
   "metadata": {
    "execution": {
     "iopub.execute_input": "2021-01-23T06:58:29.551745Z",
     "iopub.status.busy": "2021-01-23T06:58:29.550867Z",
     "iopub.status.idle": "2021-01-23T07:00:18.924353Z",
     "shell.execute_reply": "2021-01-23T07:00:18.923151Z"
    },
    "papermill": {
     "duration": 109.495029,
     "end_time": "2021-01-23T07:00:18.924494",
     "exception": false,
     "start_time": "2021-01-23T06:58:29.429465",
     "status": "completed"
    },
    "tags": []
   },
   "outputs": [
    {
     "name": "stderr",
     "output_type": "stream",
     "text": [
      "100%|██████████| 979591/979591 [01:19<00:00, 12399.64it/s]\n",
      "100%|██████████| 326531/326531 [00:25<00:00, 12680.76it/s]\n"
     ]
    }
   ],
   "source": [
    "x_train=Doc2Vec(x_train)\n",
    "x_val=Doc2Vec(x_val)"
   ]
  },
  {
   "cell_type": "markdown",
   "metadata": {
    "papermill": {
     "duration": 0.471441,
     "end_time": "2021-01-23T07:00:19.865090",
     "exception": false,
     "start_time": "2021-01-23T07:00:19.393649",
     "status": "completed"
    },
    "tags": []
   },
   "source": [
    "### Building the Model"
   ]
  },
  {
   "cell_type": "code",
   "execution_count": 20,
   "metadata": {
    "execution": {
     "iopub.execute_input": "2021-01-23T07:00:20.826750Z",
     "iopub.status.busy": "2021-01-23T07:00:20.824809Z",
     "iopub.status.idle": "2021-01-23T07:00:20.827410Z",
     "shell.execute_reply": "2021-01-23T07:00:20.827863Z"
    },
    "papermill": {
     "duration": 0.494818,
     "end_time": "2021-01-23T07:00:20.827988",
     "exception": false,
     "start_time": "2021-01-23T07:00:20.333170",
     "status": "completed"
    },
    "tags": []
   },
   "outputs": [],
   "source": [
    "from sklearn.linear_model import LogisticRegression\n",
    "from sklearn import metrics"
   ]
  },
  {
   "cell_type": "code",
   "execution_count": 21,
   "metadata": {
    "execution": {
     "iopub.execute_input": "2021-01-23T07:00:21.775589Z",
     "iopub.status.busy": "2021-01-23T07:00:21.774186Z",
     "iopub.status.idle": "2021-01-23T07:01:24.458166Z",
     "shell.execute_reply": "2021-01-23T07:01:24.457237Z"
    },
    "papermill": {
     "duration": 63.16157,
     "end_time": "2021-01-23T07:01:24.458351",
     "exception": false,
     "start_time": "2021-01-23T07:00:21.296781",
     "status": "completed"
    },
    "tags": []
   },
   "outputs": [
    {
     "name": "stdout",
     "output_type": "stream",
     "text": [
      "-------------Evalution Scores------------------\n",
      "F1-score of Trainset : 0.41434758467518046\n",
      "F1-score of Valset : 0.4098001460726379\n"
     ]
    }
   ],
   "source": [
    "model_log=LogisticRegression(C=15,max_iter=300)\n",
    "model_log.fit(x_train,y_train)\n",
    "train_pre=model_log.predict(x_train)\n",
    "val_pre=model_log.predict(x_val)\n",
    "\n",
    "print(\"-------------Evalution Scores------------------\")\n",
    "print(\"F1-score of Trainset :\",metrics.f1_score(y_train,train_pre))\n",
    "print(\"F1-score of Valset :\",metrics.f1_score(y_val,val_pre))"
   ]
  },
  {
   "cell_type": "markdown",
   "metadata": {
    "papermill": {
     "duration": 0.460368,
     "end_time": "2021-01-23T07:01:25.373486",
     "exception": false,
     "start_time": "2021-01-23T07:01:24.913118",
     "status": "completed"
    },
    "tags": []
   },
   "source": [
    "- In previous notebook i used a bag of words representation + Logistic regression i got 55% f1-score but here is getting very low even though it has semantic representation.\n",
    "- This is because here we lost lot of information . In bag of words there can be words which are relevent and irrelevent so logistic regression will deffirentiate beween those words . but here both the relevent and non relevent words are to averaged ."
   ]
  },
  {
   "cell_type": "code",
   "execution_count": 22,
   "metadata": {
    "execution": {
     "iopub.execute_input": "2021-01-23T07:01:27.027657Z",
     "iopub.status.busy": "2021-01-23T07:01:26.393586Z",
     "iopub.status.idle": "2021-01-23T07:01:27.031501Z",
     "shell.execute_reply": "2021-01-23T07:01:27.031995Z"
    },
    "papermill": {
     "duration": 1.200939,
     "end_time": "2021-01-23T07:01:27.032143",
     "exception": false,
     "start_time": "2021-01-23T07:01:25.831204",
     "status": "completed"
    },
    "tags": []
   },
   "outputs": [
    {
     "data": {
      "text/plain": [
       "84"
      ]
     },
     "execution_count": 22,
     "metadata": {},
     "output_type": "execute_result"
    }
   ],
   "source": [
    "del model_log,x_train,y_train,y_val,x_val\n",
    "gc.collect()\n"
   ]
  },
  {
   "cell_type": "markdown",
   "metadata": {
    "papermill": {
     "duration": 0.459448,
     "end_time": "2021-01-23T07:01:27.960067",
     "exception": false,
     "start_time": "2021-01-23T07:01:27.500619",
     "status": "completed"
    },
    "tags": []
   },
   "source": [
    "## Paragraph embeddings\n",
    "\n",
    "- There are some sentence techniques \n",
    "    They are :\n",
    "            1.Average word2vec (discussed in the above)\n",
    "            2.Doc2vec also called as paragraph embedding\n",
    "            3.SentenceBert\n",
    "            4.InferSent\n",
    "            5.Universal Sentence Encoder.\n",
    " Ref: https://www.analyticsvidhya.com/blog/2020/08/top-4-sentence-embedding-techniques-using-python/ \n",
    " \n",
    " In this experiment i am using only doc2vec method"
   ]
  },
  {
   "cell_type": "markdown",
   "metadata": {
    "papermill": {
     "duration": 0.458147,
     "end_time": "2021-01-23T07:01:28.879639",
     "exception": false,
     "start_time": "2021-01-23T07:01:28.421492",
     "status": "completed"
    },
    "tags": []
   },
   "source": [
    "### Doc2vec\n",
    "- step 1: preprocess and tokenize the text data.\n",
    "- step 2: prepare the tagged document \n",
    "- step 3: Train with the PV-DM or PV-DBOW\n",
    "- step 4: get the Paragraph embeddings by infering the sentences\n",
    "\n",
    "NOte : I am not goind to use this . beacause it is taking lot of time to train and embede the documents."
   ]
  },
  {
   "cell_type": "code",
   "execution_count": 23,
   "metadata": {
    "execution": {
     "iopub.execute_input": "2021-01-23T07:01:30.217646Z",
     "iopub.status.busy": "2021-01-23T07:01:30.214706Z",
     "iopub.status.idle": "2021-01-23T07:01:30.227270Z",
     "shell.execute_reply": "2021-01-23T07:01:30.228032Z"
    },
    "papermill": {
     "duration": 0.657894,
     "end_time": "2021-01-23T07:01:30.228232",
     "exception": false,
     "start_time": "2021-01-23T07:01:29.570338",
     "status": "completed"
    },
    "tags": []
   },
   "outputs": [
    {
     "data": {
      "text/plain": [
       "'\\n## importing the neceesary libraries \\nfrom gensim.models.doc2vec import Doc2Vec,TaggedDocument\\nimport re \\ndef Preprocess_doc(corpus):\\n    doc=[]\\n    for text in tqdm(corpus):\\n        text=text.lower()\\n        text=text.strip()\\n        text=re.sub(r\"[^a-zA-Z]\",\" \",text)\\n        word=[i for i in text.split() if(len(i)>1 and i.isalpha() and (i not in stop_words))]\\n        text=[ps.stem(i) for i in word]\\n        doc.append(text)\\n    return doc\\ncorpus=Preprocess_doc(train_data.question_text)\\n#converting the tokinezed documents to a tagged Documents\\ntagged_data =[]\\nfor i,doc in tqdm(enumerate(corpus)):\\n    if(len(doc)==0):\\n        doc=[\"unknown\"]\\n    tagged_data.append(TaggedDocument(doc,[i]))\\n    %%time\\n### Train the model\\nmodel = Doc2Vec(tagged_data, vector_size=30, window=2, min_count=1, workers=-1, epochs = 100)\\n# Save trained doc2vec model\\nmodel.save(\"test_doc2vec.model\")\\n\\n'"
      ]
     },
     "execution_count": 23,
     "metadata": {},
     "output_type": "execute_result"
    }
   ],
   "source": [
    "'''\n",
    "## importing the neceesary libraries \n",
    "from gensim.models.doc2vec import Doc2Vec,TaggedDocument\n",
    "import re \n",
    "def Preprocess_doc(corpus):\n",
    "    doc=[]\n",
    "    for text in tqdm(corpus):\n",
    "        text=text.lower()\n",
    "        text=text.strip()\n",
    "        text=re.sub(r\"[^a-zA-Z]\",\" \",text)\n",
    "        word=[i for i in text.split() if(len(i)>1 and i.isalpha() and (i not in stop_words))]\n",
    "        text=[ps.stem(i) for i in word]\n",
    "        doc.append(text)\n",
    "    return doc\n",
    "corpus=Preprocess_doc(train_data.question_text)\n",
    "#converting the tokinezed documents to a tagged Documents\n",
    "tagged_data =[]\n",
    "for i,doc in tqdm(enumerate(corpus)):\n",
    "    if(len(doc)==0):\n",
    "        doc=[\"unknown\"]\n",
    "    tagged_data.append(TaggedDocument(doc,[i]))\n",
    "    %%time\n",
    "### Train the model\n",
    "model = Doc2Vec(tagged_data, vector_size=30, window=2, min_count=1, workers=-1, epochs = 100)\n",
    "# Save trained doc2vec model\n",
    "model.save(\"test_doc2vec.model\")\n",
    "\n",
    "'''\n",
    "\n"
   ]
  },
  {
   "cell_type": "markdown",
   "metadata": {
    "papermill": {
     "duration": 0.48754,
     "end_time": "2021-01-23T07:01:31.186188",
     "exception": false,
     "start_time": "2021-01-23T07:01:30.698648",
     "status": "completed"
    },
    "tags": []
   },
   "source": [
    "## Experiment :2 Pretrained Embeddings + MLP"
   ]
  },
  {
   "cell_type": "code",
   "execution_count": 24,
   "metadata": {
    "execution": {
     "iopub.execute_input": "2021-01-23T07:01:32.116142Z",
     "iopub.status.busy": "2021-01-23T07:01:32.115504Z",
     "iopub.status.idle": "2021-01-23T07:01:32.122473Z",
     "shell.execute_reply": "2021-01-23T07:01:32.121878Z"
    },
    "papermill": {
     "duration": 0.472575,
     "end_time": "2021-01-23T07:01:32.122576",
     "exception": false,
     "start_time": "2021-01-23T07:01:31.650001",
     "status": "completed"
    },
    "tags": []
   },
   "outputs": [],
   "source": [
    "### importing the libraire\n",
    "from keras.layers import Conv1D,Flatten,Dense,BatchNormalization,Embedding,MaxPooling1D,Input\n",
    "from keras.layers import SpatialDropout1D,Dropout\n",
    "from keras.layers.merge import concatenate\n",
    "from keras.models import Model,Sequential\n",
    "from keras.activations import relu\n",
    "from keras.preprocessing.text import Tokenizer\n",
    "from keras.preprocessing.sequence import pad_sequences\n",
    "from keras.utils import plot_model\n",
    "from keras.callbacks import ModelCheckpoint,EarlyStopping"
   ]
  },
  {
   "cell_type": "code",
   "execution_count": 25,
   "metadata": {
    "execution": {
     "iopub.execute_input": "2021-01-23T07:01:33.089670Z",
     "iopub.status.busy": "2021-01-23T07:01:33.088742Z",
     "iopub.status.idle": "2021-01-23T07:01:46.657198Z",
     "shell.execute_reply": "2021-01-23T07:01:46.656462Z"
    },
    "papermill": {
     "duration": 14.037515,
     "end_time": "2021-01-23T07:01:46.657373",
     "exception": false,
     "start_time": "2021-01-23T07:01:32.619858",
     "status": "completed"
    },
    "tags": []
   },
   "outputs": [
    {
     "name": "stderr",
     "output_type": "stream",
     "text": [
      "100%|██████████| 1306122/1306122 [00:05<00:00, 222185.38it/s]\n",
      "100%|██████████| 1306122/1306122 [00:07<00:00, 172044.35it/s]\n"
     ]
    }
   ],
   "source": [
    "## we need to prepare the input to the Embedding layer that it was accepted\n",
    "max_lenth=30\n",
    "vec_size=300\n",
    "# get a word to index dictonary and and encoded sentence\n",
    "## step 1: defining a fit_on_text functions it will return the vecabular to index dictonary and \n",
    "## encoded sentence\n",
    "\n",
    "def get_word_index(corpus):\n",
    "    vocab=vocab_build(corpus)\n",
    "    word_index=dict((w,i+1) for i,w in enumerate(list(vocab.keys())))\n",
    "    return word_index\n",
    "\n",
    "    \n",
    "def fit_on_text(corpus,word_index):\n",
    "    sent=[]\n",
    "    for text in tqdm(corpus):\n",
    "        li=[word_index[w] for w in text.split()]\n",
    "        sent.append(li)\n",
    "    return sent\n",
    "\n",
    "# word_index and encoded sentence \n",
    "word_index=get_word_index(train_data.question_text)\n",
    "encoded_docs=fit_on_text(train_data.question_text,word_index)\n",
    "\n",
    "## vocabulary size\n",
    "vocab_size=len(word_index)+1"
   ]
  },
  {
   "cell_type": "code",
   "execution_count": 26,
   "metadata": {
    "execution": {
     "iopub.execute_input": "2021-01-23T07:01:47.710835Z",
     "iopub.status.busy": "2021-01-23T07:01:47.705839Z",
     "iopub.status.idle": "2021-01-23T07:01:59.205024Z",
     "shell.execute_reply": "2021-01-23T07:01:59.203870Z"
    },
    "papermill": {
     "duration": 12.036864,
     "end_time": "2021-01-23T07:01:59.205190",
     "exception": false,
     "start_time": "2021-01-23T07:01:47.168326",
     "status": "completed"
    },
    "tags": []
   },
   "outputs": [
    {
     "name": "stdout",
     "output_type": "stream",
     "text": [
      "The Number of Vocabularies are in the dataset is : 223182\n"
     ]
    }
   ],
   "source": [
    "print(\"The Number of Vocabularies are in the dataset is :\",vocab_size)\n",
    "\n",
    "## step 2: padding the sequence to a maximum length\n",
    "## the pad_to_seqeucbe method wiill expect the input of encoded and max leght, and where to pad this is with the zeros\n",
    "## i.e post or pre \n",
    "padded_doc=pad_sequences(encoded_docs,maxlen=max_lenth,padding=\"post\")"
   ]
  },
  {
   "cell_type": "code",
   "execution_count": 27,
   "metadata": {
    "execution": {
     "iopub.execute_input": "2021-01-23T07:02:00.250066Z",
     "iopub.status.busy": "2021-01-23T07:02:00.247764Z",
     "iopub.status.idle": "2021-01-23T07:02:01.485604Z",
     "shell.execute_reply": "2021-01-23T07:02:01.484719Z"
    },
    "papermill": {
     "duration": 1.758592,
     "end_time": "2021-01-23T07:02:01.485750",
     "exception": false,
     "start_time": "2021-01-23T07:01:59.727158",
     "status": "completed"
    },
    "tags": []
   },
   "outputs": [
    {
     "name": "stderr",
     "output_type": "stream",
     "text": [
      "100%|██████████| 223181/223181 [00:01<00:00, 194072.99it/s]"
     ]
    },
    {
     "name": "stdout",
     "output_type": "stream",
     "text": [
      "Number of Out of Vocabulary 79072\n"
     ]
    },
    {
     "name": "stderr",
     "output_type": "stream",
     "text": [
      "\n"
     ]
    }
   ],
   "source": [
    "## step 3: constructinng embedding matrix for the corpus vocabulary using the pretrained embeddings:\n",
    "## here each row will have the emedding vector for each unique word\n",
    "count=0\n",
    "embedding_mat=np.zeros((vocab_size,300))\n",
    "for word,i in tqdm(word_index.items()):\n",
    "    try:\n",
    "        vec=model[word]\n",
    "        embedding_mat[i]=vec\n",
    "    except KeyError:\n",
    "        count+=1\n",
    "        continue\n",
    "\n",
    "print(\"Number of Out of Vocabulary\",count)"
   ]
  },
  {
   "cell_type": "code",
   "execution_count": 28,
   "metadata": {
    "execution": {
     "iopub.execute_input": "2021-01-23T07:02:02.891065Z",
     "iopub.status.busy": "2021-01-23T07:02:02.889677Z",
     "iopub.status.idle": "2021-01-23T07:02:04.003281Z",
     "shell.execute_reply": "2021-01-23T07:02:04.002403Z"
    },
    "papermill": {
     "duration": 1.93923,
     "end_time": "2021-01-23T07:02:04.003402",
     "exception": false,
     "start_time": "2021-01-23T07:02:02.064172",
     "status": "completed"
    },
    "tags": []
   },
   "outputs": [],
   "source": [
    "### splitting dataset in to train_set and test_set\n",
    "from sklearn.model_selection import train_test_split\n",
    "x_train,x_val,y_train,y_val=train_test_split(np.array(padded_doc),train_data.target,test_size=0.2,stratify=train_data.target)"
   ]
  },
  {
   "cell_type": "markdown",
   "metadata": {
    "papermill": {
     "duration": 0.519175,
     "end_time": "2021-01-23T07:02:05.039618",
     "exception": false,
     "start_time": "2021-01-23T07:02:04.520443",
     "status": "completed"
    },
    "tags": []
   },
   "source": [
    "## Building the model"
   ]
  },
  {
   "cell_type": "code",
   "execution_count": 29,
   "metadata": {
    "execution": {
     "iopub.execute_input": "2021-01-23T07:02:06.095872Z",
     "iopub.status.busy": "2021-01-23T07:02:06.095040Z",
     "iopub.status.idle": "2021-01-23T07:02:09.582370Z",
     "shell.execute_reply": "2021-01-23T07:02:09.580918Z"
    },
    "papermill": {
     "duration": 4.005056,
     "end_time": "2021-01-23T07:02:09.582506",
     "exception": false,
     "start_time": "2021-01-23T07:02:05.577450",
     "status": "completed"
    },
    "tags": []
   },
   "outputs": [],
   "source": [
    "### defing the model\n",
    "classfy=Sequential()\n",
    "classfy.add(Embedding(vocab_size,300,weights=[embedding_mat],input_length=max_lenth,trainable=False))\n",
    "classfy.add(Flatten())\n",
    "classfy.add(Dense(256,activation=\"relu\"))\n",
    "classfy.add(Dense(128,activation=\"relu\"))\n",
    "classfy.add(Dense(1,activation=\"sigmoid\"))"
   ]
  },
  {
   "cell_type": "code",
   "execution_count": 30,
   "metadata": {
    "execution": {
     "iopub.execute_input": "2021-01-23T07:02:10.686679Z",
     "iopub.status.busy": "2021-01-23T07:02:10.681914Z",
     "iopub.status.idle": "2021-01-23T07:02:10.690857Z",
     "shell.execute_reply": "2021-01-23T07:02:10.691798Z"
    },
    "papermill": {
     "duration": 0.551885,
     "end_time": "2021-01-23T07:02:10.692030",
     "exception": false,
     "start_time": "2021-01-23T07:02:10.140145",
     "status": "completed"
    },
    "tags": []
   },
   "outputs": [
    {
     "name": "stdout",
     "output_type": "stream",
     "text": [
      "Model: \"sequential\"\n",
      "_________________________________________________________________\n",
      "Layer (type)                 Output Shape              Param #   \n",
      "=================================================================\n",
      "embedding (Embedding)        (None, 30, 300)           66954600  \n",
      "_________________________________________________________________\n",
      "flatten (Flatten)            (None, 9000)              0         \n",
      "_________________________________________________________________\n",
      "dense (Dense)                (None, 256)               2304256   \n",
      "_________________________________________________________________\n",
      "dense_1 (Dense)              (None, 128)               32896     \n",
      "_________________________________________________________________\n",
      "dense_2 (Dense)              (None, 1)                 129       \n",
      "=================================================================\n",
      "Total params: 69,291,881\n",
      "Trainable params: 2,337,281\n",
      "Non-trainable params: 66,954,600\n",
      "_________________________________________________________________\n"
     ]
    }
   ],
   "source": [
    "classfy.summary()"
   ]
  },
  {
   "cell_type": "code",
   "execution_count": 31,
   "metadata": {
    "execution": {
     "iopub.execute_input": "2021-01-23T07:02:11.792502Z",
     "iopub.status.busy": "2021-01-23T07:02:11.791512Z",
     "iopub.status.idle": "2021-01-23T07:02:11.793593Z",
     "shell.execute_reply": "2021-01-23T07:02:11.794097Z"
    },
    "papermill": {
     "duration": 0.558492,
     "end_time": "2021-01-23T07:02:11.794240",
     "exception": false,
     "start_time": "2021-01-23T07:02:11.235748",
     "status": "completed"
    },
    "tags": []
   },
   "outputs": [],
   "source": [
    "my_callbacks=[EarlyStopping(patience=2,monitor=\"val_loss\")]"
   ]
  },
  {
   "cell_type": "code",
   "execution_count": 32,
   "metadata": {
    "execution": {
     "iopub.execute_input": "2021-01-23T07:02:13.185672Z",
     "iopub.status.busy": "2021-01-23T07:02:13.181049Z",
     "iopub.status.idle": "2021-01-23T07:04:48.264127Z",
     "shell.execute_reply": "2021-01-23T07:04:48.263605Z"
    },
    "papermill": {
     "duration": 155.67444,
     "end_time": "2021-01-23T07:04:48.264268",
     "exception": false,
     "start_time": "2021-01-23T07:02:12.589828",
     "status": "completed"
    },
    "tags": []
   },
   "outputs": [
    {
     "name": "stdout",
     "output_type": "stream",
     "text": [
      "Epoch 1/5\n",
      "8164/8164 [==============================] - 37s 4ms/step - loss: 0.1248 - accuracy: 0.9512 - val_loss: 0.1203 - val_accuracy: 0.9524\n",
      "Epoch 2/5\n",
      "8164/8164 [==============================] - 39s 5ms/step - loss: 0.1089 - accuracy: 0.9573 - val_loss: 0.1193 - val_accuracy: 0.9533\n",
      "Epoch 3/5\n",
      "8164/8164 [==============================] - 38s 5ms/step - loss: 0.0906 - accuracy: 0.9651 - val_loss: 0.1235 - val_accuracy: 0.9522\n",
      "Epoch 4/5\n",
      "8164/8164 [==============================] - 39s 5ms/step - loss: 0.0677 - accuracy: 0.9747 - val_loss: 0.1494 - val_accuracy: 0.9491\n"
     ]
    },
    {
     "data": {
      "text/plain": [
       "<tensorflow.python.keras.callbacks.History at 0x7f78c0a8eb50>"
      ]
     },
     "execution_count": 32,
     "metadata": {},
     "output_type": "execute_result"
    }
   ],
   "source": [
    "classfy.compile(loss=\"binary_crossentropy\",optimizer=\"adam\",metrics=[\"accuracy\"])\n",
    "classfy.fit(x_train,y_train,epochs=5,validation_data=(x_val,y_val),callbacks=my_callbacks,batch_size=128)"
   ]
  },
  {
   "cell_type": "markdown",
   "metadata": {
    "papermill": {
     "duration": 1.489992,
     "end_time": "2021-01-23T07:04:51.226110",
     "exception": false,
     "start_time": "2021-01-23T07:04:49.736118",
     "status": "completed"
    },
    "tags": []
   },
   "source": [
    "### Evalution of Validation data \n",
    "\n",
    "- here the Metric we using is f1_score and roc_auc_score "
   ]
  },
  {
   "cell_type": "code",
   "execution_count": 33,
   "metadata": {
    "execution": {
     "iopub.execute_input": "2021-01-23T07:04:54.181259Z",
     "iopub.status.busy": "2021-01-23T07:04:54.180156Z",
     "iopub.status.idle": "2021-01-23T07:05:05.848819Z",
     "shell.execute_reply": "2021-01-23T07:05:05.848052Z"
    },
    "papermill": {
     "duration": 13.152706,
     "end_time": "2021-01-23T07:05:05.848939",
     "exception": false,
     "start_time": "2021-01-23T07:04:52.696233",
     "status": "completed"
    },
    "tags": []
   },
   "outputs": [
    {
     "name": "stdout",
     "output_type": "stream",
     "text": [
      "AUC and ROC score is : 0.9369327887821686\n",
      "F1_score : 0.5881290534438879\n"
     ]
    }
   ],
   "source": [
    "val_pre=classfy.predict(x_val)\n",
    "predicts=[]\n",
    "threshold=0.3\n",
    "for i in val_pre:\n",
    "    if(i<threshold):\n",
    "        predicts.append(0)\n",
    "    else:\n",
    "        predicts.append(1)\n",
    "\n",
    "print(\"AUC and ROC score is :\",metrics.roc_auc_score(y_val,val_pre))\n",
    "print(\"F1_score :\",metrics.f1_score(y_val,predicts))"
   ]
  },
  {
   "cell_type": "markdown",
   "metadata": {
    "papermill": {
     "duration": 1.922964,
     "end_time": "2021-01-23T07:05:09.660269",
     "exception": false,
     "start_time": "2021-01-23T07:05:07.737305",
     "status": "completed"
    },
    "tags": []
   },
   "source": [
    "### Creating the Submission file from the dataset"
   ]
  },
  {
   "cell_type": "code",
   "execution_count": 34,
   "metadata": {
    "execution": {
     "iopub.execute_input": "2021-01-23T07:05:13.413069Z",
     "iopub.status.busy": "2021-01-23T07:05:13.411910Z",
     "iopub.status.idle": "2021-01-23T07:05:29.812572Z",
     "shell.execute_reply": "2021-01-23T07:05:29.811920Z"
    },
    "papermill": {
     "duration": 18.088876,
     "end_time": "2021-01-23T07:05:29.812700",
     "exception": false,
     "start_time": "2021-01-23T07:05:11.723824",
     "status": "completed"
    },
    "tags": []
   },
   "outputs": [],
   "source": [
    "clean_test_data=test_data.question_text.apply(Preprocess)\n"
   ]
  },
  {
   "cell_type": "code",
   "execution_count": 35,
   "metadata": {
    "execution": {
     "iopub.execute_input": "2021-01-23T07:05:32.901118Z",
     "iopub.status.busy": "2021-01-23T07:05:32.899400Z",
     "iopub.status.idle": "2021-01-23T07:05:32.901882Z",
     "shell.execute_reply": "2021-01-23T07:05:32.902428Z"
    },
    "papermill": {
     "duration": 1.504843,
     "end_time": "2021-01-23T07:05:32.902569",
     "exception": false,
     "start_time": "2021-01-23T07:05:31.397726",
     "status": "completed"
    },
    "tags": []
   },
   "outputs": [],
   "source": [
    "def fit_on_test_text(corpus,word_index):\n",
    "    sent=[]\n",
    "    for text in tqdm(corpus):\n",
    "       \n",
    "        li=[]\n",
    "        for w in text.split():\n",
    "            try:\n",
    "                li.append(word_index[w])\n",
    "            except KeyError:\n",
    "                li.append(0)\n",
    "        sent.append(li)\n",
    "    return sent"
   ]
  },
  {
   "cell_type": "code",
   "execution_count": 36,
   "metadata": {
    "execution": {
     "iopub.execute_input": "2021-01-23T07:05:35.787073Z",
     "iopub.status.busy": "2021-01-23T07:05:35.786130Z",
     "iopub.status.idle": "2021-01-23T07:05:35.789455Z",
     "shell.execute_reply": "2021-01-23T07:05:35.788927Z"
    },
    "papermill": {
     "duration": 1.467083,
     "end_time": "2021-01-23T07:05:35.789564",
     "exception": false,
     "start_time": "2021-01-23T07:05:34.322481",
     "status": "completed"
    },
    "tags": []
   },
   "outputs": [],
   "source": [
    "def Submission_file(model,name):\n",
    "    test_encode=fit_on_test_text(clean_test_data,word_index)\n",
    "    test_pad=pad_sequences(test_encode,maxlen=max_lenth,padding=\"post\")\n",
    "    test_predict=model.predict(test_pad)\n",
    "    predicts=[]\n",
    "    threshold=0.3\n",
    "    for i in test_predict:\n",
    "        if(i<threshold):\n",
    "            predicts.append(0)\n",
    "        else:\n",
    "            predicts.append(1)\n",
    "    submit=pd.DataFrame()\n",
    "    submit[\"qid\"]=test_data.qid\n",
    "    submit[\"prediction\"]=predicts\n",
    "    submit.to_csv(name,index=False)\n",
    "    return submit"
   ]
  },
  {
   "cell_type": "code",
   "execution_count": 37,
   "metadata": {
    "execution": {
     "iopub.execute_input": "2021-01-23T07:05:38.688459Z",
     "iopub.status.busy": "2021-01-23T07:05:38.687507Z",
     "iopub.status.idle": "2021-01-23T07:06:01.959585Z",
     "shell.execute_reply": "2021-01-23T07:06:01.959014Z"
    },
    "papermill": {
     "duration": 24.728723,
     "end_time": "2021-01-23T07:06:01.959730",
     "exception": false,
     "start_time": "2021-01-23T07:05:37.231007",
     "status": "completed"
    },
    "tags": []
   },
   "outputs": [
    {
     "name": "stderr",
     "output_type": "stream",
     "text": [
      "100%|██████████| 375806/375806 [00:02<00:00, 163101.44it/s]\n"
     ]
    }
   ],
   "source": [
    "df_mlp=Submission_file(classfy,\"submit_mlp.csv\")"
   ]
  },
  {
   "cell_type": "markdown",
   "metadata": {
    "papermill": {
     "duration": 1.704575,
     "end_time": "2021-01-23T07:06:05.104077",
     "exception": false,
     "start_time": "2021-01-23T07:06:03.399502",
     "status": "completed"
    },
    "tags": []
   },
   "source": [
    "## Experiment 3: Pretrained Embedding + Convolutional"
   ]
  },
  {
   "cell_type": "markdown",
   "metadata": {
    "papermill": {
     "duration": 1.852783,
     "end_time": "2021-01-23T07:06:08.393415",
     "exception": false,
     "start_time": "2021-01-23T07:06:06.540632",
     "status": "completed"
    },
    "tags": []
   },
   "source": [
    "### Model 1:\n",
    "- here i take the filter size of 3 (like tri-gram)\n",
    "- here i used the 2 convolutions "
   ]
  },
  {
   "cell_type": "code",
   "execution_count": 38,
   "metadata": {
    "execution": {
     "iopub.execute_input": "2021-01-23T07:06:11.335004Z",
     "iopub.status.busy": "2021-01-23T07:06:11.334052Z",
     "iopub.status.idle": "2021-01-23T07:06:13.165550Z",
     "shell.execute_reply": "2021-01-23T07:06:13.164829Z"
    },
    "papermill": {
     "duration": 3.327789,
     "end_time": "2021-01-23T07:06:13.165679",
     "exception": false,
     "start_time": "2021-01-23T07:06:09.837890",
     "status": "completed"
    },
    "tags": []
   },
   "outputs": [],
   "source": [
    "\n",
    "model_cnn=Sequential()\n",
    "model_cnn.add(Embedding(vocab_size,300,weights=[embedding_mat],input_length=max_lenth,trainable=False))\n",
    "model_cnn.add(Conv1D(64,3,activation=\"relu\",input_shape=(max_lenth,vec_size)))\n",
    "model_cnn.add(MaxPooling1D())\n",
    "model_cnn.add(Conv1D(32,3,activation=\"relu\"))\n",
    "model_cnn.add(Flatten())\n",
    "model_cnn.add(Dense(256,activation=\"relu\"))\n",
    "model_cnn.add(Dense(128,activation=\"relu\"))\n",
    "model_cnn.add(Dense(1,activation=\"sigmoid\"))"
   ]
  },
  {
   "cell_type": "code",
   "execution_count": 39,
   "metadata": {
    "execution": {
     "iopub.execute_input": "2021-01-23T07:06:16.919330Z",
     "iopub.status.busy": "2021-01-23T07:06:16.917030Z",
     "iopub.status.idle": "2021-01-23T07:06:16.931993Z",
     "shell.execute_reply": "2021-01-23T07:06:16.932847Z"
    },
    "papermill": {
     "duration": 1.798949,
     "end_time": "2021-01-23T07:06:16.933051",
     "exception": false,
     "start_time": "2021-01-23T07:06:15.134102",
     "status": "completed"
    },
    "tags": []
   },
   "outputs": [
    {
     "name": "stdout",
     "output_type": "stream",
     "text": [
      "Model: \"sequential_1\"\n",
      "_________________________________________________________________\n",
      "Layer (type)                 Output Shape              Param #   \n",
      "=================================================================\n",
      "embedding_1 (Embedding)      (None, 30, 300)           66954600  \n",
      "_________________________________________________________________\n",
      "conv1d (Conv1D)              (None, 28, 64)            57664     \n",
      "_________________________________________________________________\n",
      "max_pooling1d (MaxPooling1D) (None, 14, 64)            0         \n",
      "_________________________________________________________________\n",
      "conv1d_1 (Conv1D)            (None, 12, 32)            6176      \n",
      "_________________________________________________________________\n",
      "flatten_1 (Flatten)          (None, 384)               0         \n",
      "_________________________________________________________________\n",
      "dense_3 (Dense)              (None, 256)               98560     \n",
      "_________________________________________________________________\n",
      "dense_4 (Dense)              (None, 128)               32896     \n",
      "_________________________________________________________________\n",
      "dense_5 (Dense)              (None, 1)                 129       \n",
      "=================================================================\n",
      "Total params: 67,150,025\n",
      "Trainable params: 195,425\n",
      "Non-trainable params: 66,954,600\n",
      "_________________________________________________________________\n"
     ]
    }
   ],
   "source": [
    "model_cnn.summary()"
   ]
  },
  {
   "cell_type": "code",
   "execution_count": 40,
   "metadata": {
    "execution": {
     "iopub.execute_input": "2021-01-23T07:06:19.988641Z",
     "iopub.status.busy": "2021-01-23T07:06:19.987883Z",
     "iopub.status.idle": "2021-01-23T07:10:08.464448Z",
     "shell.execute_reply": "2021-01-23T07:10:08.463738Z"
    },
    "papermill": {
     "duration": 229.990336,
     "end_time": "2021-01-23T07:10:08.464574",
     "exception": false,
     "start_time": "2021-01-23T07:06:18.474238",
     "status": "completed"
    },
    "tags": []
   },
   "outputs": [
    {
     "name": "stdout",
     "output_type": "stream",
     "text": [
      "Epoch 1/5\n",
      "8164/8164 [==============================] - 44s 5ms/step - loss: 0.1172 - accuracy: 0.9536 - val_loss: 0.1114 - val_accuracy: 0.9551\n",
      "Epoch 2/5\n",
      "8164/8164 [==============================] - 44s 5ms/step - loss: 0.1052 - accuracy: 0.9580 - val_loss: 0.1082 - val_accuracy: 0.9565\n",
      "Epoch 3/5\n",
      "8164/8164 [==============================] - 47s 6ms/step - loss: 0.0991 - accuracy: 0.9600 - val_loss: 0.1082 - val_accuracy: 0.9572\n",
      "Epoch 4/5\n",
      "8164/8164 [==============================] - 45s 5ms/step - loss: 0.0942 - accuracy: 0.9616 - val_loss: 0.1122 - val_accuracy: 0.9572\n",
      "Epoch 5/5\n",
      "8164/8164 [==============================] - 45s 5ms/step - loss: 0.0898 - accuracy: 0.9630 - val_loss: 0.1111 - val_accuracy: 0.9571\n"
     ]
    },
    {
     "data": {
      "text/plain": [
       "<tensorflow.python.keras.callbacks.History at 0x7f74be9b6a90>"
      ]
     },
     "execution_count": 40,
     "metadata": {},
     "output_type": "execute_result"
    }
   ],
   "source": [
    "model_cnn.compile(loss=\"binary_crossentropy\",optimizer=\"adam\",metrics=[\"accuracy\"])\n",
    "model_cnn.fit(x_train,y_train,epochs=5,validation_data=(x_val,y_val),callbacks=my_callbacks,batch_size=128)"
   ]
  },
  {
   "cell_type": "code",
   "execution_count": 41,
   "metadata": {
    "execution": {
     "iopub.execute_input": "2021-01-23T07:10:14.564087Z",
     "iopub.status.busy": "2021-01-23T07:10:14.563001Z",
     "iopub.status.idle": "2021-01-23T07:10:27.622320Z",
     "shell.execute_reply": "2021-01-23T07:10:27.621696Z"
    },
    "papermill": {
     "duration": 16.319901,
     "end_time": "2021-01-23T07:10:27.622442",
     "exception": false,
     "start_time": "2021-01-23T07:10:11.302541",
     "status": "completed"
    },
    "tags": []
   },
   "outputs": [
    {
     "name": "stdout",
     "output_type": "stream",
     "text": [
      "AUC and ROC score is : 0.9571115326691653\n",
      "F1_score : 0.6486150367439231\n"
     ]
    }
   ],
   "source": [
    "val_pre=model_cnn.predict(x_val)\n",
    "predicts=[]\n",
    "threshold=0.3\n",
    "for i in val_pre:\n",
    "    if(i<threshold):\n",
    "        predicts.append(0)\n",
    "    else:\n",
    "        predicts.append(1)\n",
    "\n",
    "print(\"AUC and ROC score is :\",metrics.roc_auc_score(y_val,val_pre))\n",
    "print(\"F1_score :\",metrics.f1_score(y_val,predicts))"
   ]
  },
  {
   "cell_type": "code",
   "execution_count": 42,
   "metadata": {
    "execution": {
     "iopub.execute_input": "2021-01-23T07:10:33.939723Z",
     "iopub.status.busy": "2021-01-23T07:10:33.938754Z",
     "iopub.status.idle": "2021-01-23T07:10:59.576359Z",
     "shell.execute_reply": "2021-01-23T07:10:59.575272Z"
    },
    "papermill": {
     "duration": 28.91956,
     "end_time": "2021-01-23T07:10:59.576506",
     "exception": false,
     "start_time": "2021-01-23T07:10:30.656946",
     "status": "completed"
    },
    "tags": []
   },
   "outputs": [
    {
     "name": "stderr",
     "output_type": "stream",
     "text": [
      "100%|██████████| 375806/375806 [00:03<00:00, 107207.13it/s]\n"
     ]
    }
   ],
   "source": [
    "## creating the submission File for convolutional networks\n",
    "df_mlp=Submission_file(model_cnn,\"submit_model_cnn.csv\")"
   ]
  },
  {
   "cell_type": "markdown",
   "metadata": {
    "papermill": {
     "duration": 3.233708,
     "end_time": "2021-01-23T07:11:05.898691",
     "exception": false,
     "start_time": "2021-01-23T07:11:02.664983",
     "status": "completed"
    },
    "tags": []
   },
   "source": [
    "### model 2:\n",
    "- Here i use n_gram filters 3,5,7 size of filters and i will combine those "
   ]
  },
  {
   "cell_type": "code",
   "execution_count": 43,
   "metadata": {
    "execution": {
     "iopub.execute_input": "2021-01-23T07:11:12.224077Z",
     "iopub.status.busy": "2021-01-23T07:11:12.223060Z",
     "iopub.status.idle": "2021-01-23T07:11:14.059631Z",
     "shell.execute_reply": "2021-01-23T07:11:14.058917Z"
    },
    "papermill": {
     "duration": 4.986523,
     "end_time": "2021-01-23T07:11:14.059810",
     "exception": false,
     "start_time": "2021-01-23T07:11:09.073287",
     "status": "completed"
    },
    "tags": []
   },
   "outputs": [],
   "source": [
    "input_=Input((max_lenth,))\n",
    "emb_vec=Embedding(vocab_size,300,weights=[embedding_mat],input_length=max_lenth,trainable=False)(input_)\n",
    "## 3-gram convolution\n",
    "out_3g=Conv1D(64,3,activation=\"relu\",input_shape=(max_lenth,vec_size))(emb_vec)\n",
    "out_3g=MaxPooling1D()(out_3g)\n",
    "out_3g=SpatialDropout1D(0.5)(out_3g)\n",
    "out_3g=Conv1D(64,3,activation=\"relu\")(out_3g)\n",
    "out_3g=MaxPooling1D()(out_3g)\n",
    "out_3g=SpatialDropout1D(0.5)(out_3g)\n",
    "out_3g=Flatten()(out_3g)\n",
    "## 5-gram convolutin\n",
    "out_5g=Conv1D(64,5,activation=\"relu\",input_shape=(max_lenth,vec_size))(emb_vec)\n",
    "out_5g=MaxPooling1D()(out_5g)\n",
    "out_5g=SpatialDropout1D(0.5)(out_5g)\n",
    "out_5g=Conv1D(64,5,activation=\"relu\")(out_5g)\n",
    "out_5g=MaxPooling1D()(out_5g)\n",
    "out_5g=SpatialDropout1D(0.5)(out_5g)\n",
    "out_5g=Flatten()(out_5g)\n",
    "## 7-gram convolution\n",
    "out_7g=Conv1D(64,7,activation=\"relu\",input_shape=(max_lenth,vec_size))(emb_vec)\n",
    "out_7g=MaxPooling1D()(out_7g)\n",
    "out_7g=SpatialDropout1D(0.5)(out_7g)\n",
    "out_7g=Conv1D(64,7,activation=\"relu\")(out_7g)\n",
    "out_7g=MaxPooling1D()(out_7g)\n",
    "out_7g=SpatialDropout1D(0.5)(out_7g)\n",
    "out_7g=Flatten()(out_7g)\n",
    "\n",
    "#concatenate all those outputs\n",
    "com_grams=concatenate([out_3g,out_5g,out_7g],axis=-1)\n",
    "output=Dense(256,activation=\"relu\")(com_grams)\n",
    "\n",
    "output=Dense(1,activation=\"sigmoid\")(output)\n",
    "\n",
    "model_cnn_2=Model(inputs=input_,outputs=output)"
   ]
  },
  {
   "cell_type": "code",
   "execution_count": 44,
   "metadata": {
    "execution": {
     "iopub.execute_input": "2021-01-23T07:11:19.922593Z",
     "iopub.status.busy": "2021-01-23T07:11:19.921505Z",
     "iopub.status.idle": "2021-01-23T07:11:19.940031Z",
     "shell.execute_reply": "2021-01-23T07:11:19.940520Z"
    },
    "papermill": {
     "duration": 2.923503,
     "end_time": "2021-01-23T07:11:19.940683",
     "exception": false,
     "start_time": "2021-01-23T07:11:17.017180",
     "status": "completed"
    },
    "tags": []
   },
   "outputs": [
    {
     "name": "stdout",
     "output_type": "stream",
     "text": [
      "Model: \"functional_1\"\n",
      "__________________________________________________________________________________________________\n",
      "Layer (type)                    Output Shape         Param #     Connected to                     \n",
      "==================================================================================================\n",
      "input_1 (InputLayer)            [(None, 30)]         0                                            \n",
      "__________________________________________________________________________________________________\n",
      "embedding_2 (Embedding)         (None, 30, 300)      66954600    input_1[0][0]                    \n",
      "__________________________________________________________________________________________________\n",
      "conv1d_2 (Conv1D)               (None, 28, 64)       57664       embedding_2[0][0]                \n",
      "__________________________________________________________________________________________________\n",
      "conv1d_4 (Conv1D)               (None, 26, 64)       96064       embedding_2[0][0]                \n",
      "__________________________________________________________________________________________________\n",
      "conv1d_6 (Conv1D)               (None, 24, 64)       134464      embedding_2[0][0]                \n",
      "__________________________________________________________________________________________________\n",
      "max_pooling1d_1 (MaxPooling1D)  (None, 14, 64)       0           conv1d_2[0][0]                   \n",
      "__________________________________________________________________________________________________\n",
      "max_pooling1d_3 (MaxPooling1D)  (None, 13, 64)       0           conv1d_4[0][0]                   \n",
      "__________________________________________________________________________________________________\n",
      "max_pooling1d_5 (MaxPooling1D)  (None, 12, 64)       0           conv1d_6[0][0]                   \n",
      "__________________________________________________________________________________________________\n",
      "spatial_dropout1d (SpatialDropo (None, 14, 64)       0           max_pooling1d_1[0][0]            \n",
      "__________________________________________________________________________________________________\n",
      "spatial_dropout1d_2 (SpatialDro (None, 13, 64)       0           max_pooling1d_3[0][0]            \n",
      "__________________________________________________________________________________________________\n",
      "spatial_dropout1d_4 (SpatialDro (None, 12, 64)       0           max_pooling1d_5[0][0]            \n",
      "__________________________________________________________________________________________________\n",
      "conv1d_3 (Conv1D)               (None, 12, 64)       12352       spatial_dropout1d[0][0]          \n",
      "__________________________________________________________________________________________________\n",
      "conv1d_5 (Conv1D)               (None, 9, 64)        20544       spatial_dropout1d_2[0][0]        \n",
      "__________________________________________________________________________________________________\n",
      "conv1d_7 (Conv1D)               (None, 6, 64)        28736       spatial_dropout1d_4[0][0]        \n",
      "__________________________________________________________________________________________________\n",
      "max_pooling1d_2 (MaxPooling1D)  (None, 6, 64)        0           conv1d_3[0][0]                   \n",
      "__________________________________________________________________________________________________\n",
      "max_pooling1d_4 (MaxPooling1D)  (None, 4, 64)        0           conv1d_5[0][0]                   \n",
      "__________________________________________________________________________________________________\n",
      "max_pooling1d_6 (MaxPooling1D)  (None, 3, 64)        0           conv1d_7[0][0]                   \n",
      "__________________________________________________________________________________________________\n",
      "spatial_dropout1d_1 (SpatialDro (None, 6, 64)        0           max_pooling1d_2[0][0]            \n",
      "__________________________________________________________________________________________________\n",
      "spatial_dropout1d_3 (SpatialDro (None, 4, 64)        0           max_pooling1d_4[0][0]            \n",
      "__________________________________________________________________________________________________\n",
      "spatial_dropout1d_5 (SpatialDro (None, 3, 64)        0           max_pooling1d_6[0][0]            \n",
      "__________________________________________________________________________________________________\n",
      "flatten_2 (Flatten)             (None, 384)          0           spatial_dropout1d_1[0][0]        \n",
      "__________________________________________________________________________________________________\n",
      "flatten_3 (Flatten)             (None, 256)          0           spatial_dropout1d_3[0][0]        \n",
      "__________________________________________________________________________________________________\n",
      "flatten_4 (Flatten)             (None, 192)          0           spatial_dropout1d_5[0][0]        \n",
      "__________________________________________________________________________________________________\n",
      "concatenate (Concatenate)       (None, 832)          0           flatten_2[0][0]                  \n",
      "                                                                 flatten_3[0][0]                  \n",
      "                                                                 flatten_4[0][0]                  \n",
      "__________________________________________________________________________________________________\n",
      "dense_6 (Dense)                 (None, 256)          213248      concatenate[0][0]                \n",
      "__________________________________________________________________________________________________\n",
      "dense_7 (Dense)                 (None, 1)            257         dense_6[0][0]                    \n",
      "==================================================================================================\n",
      "Total params: 67,517,929\n",
      "Trainable params: 563,329\n",
      "Non-trainable params: 66,954,600\n",
      "__________________________________________________________________________________________________\n"
     ]
    }
   ],
   "source": [
    "model_cnn_2.summary()"
   ]
  },
  {
   "cell_type": "code",
   "execution_count": 45,
   "metadata": {
    "execution": {
     "iopub.execute_input": "2021-01-23T07:11:25.765860Z",
     "iopub.status.busy": "2021-01-23T07:11:25.765145Z",
     "iopub.status.idle": "2021-01-23T07:11:26.773890Z",
     "shell.execute_reply": "2021-01-23T07:11:26.774407Z"
    },
    "papermill": {
     "duration": 4.061387,
     "end_time": "2021-01-23T07:11:26.774539",
     "exception": false,
     "start_time": "2021-01-23T07:11:22.713152",
     "status": "completed"
    },
    "tags": []
   },
   "outputs": [
    {
     "data": {
      "image/png": "[encoded data removed]",
      "text/plain": [
       "<IPython.core.display.Image object>"
      ]
     },
     "execution_count": 45,
     "metadata": {},
     "output_type": "execute_result"
    }
   ],
   "source": [
    "## plotting the model\n",
    "plot_model(model_cnn_2)"
   ]
  },
  {
   "cell_type": "code",
   "execution_count": 46,
   "metadata": {
    "execution": {
     "iopub.execute_input": "2021-01-23T07:11:32.322454Z",
     "iopub.status.busy": "2021-01-23T07:11:32.321467Z",
     "iopub.status.idle": "2021-01-23T07:15:51.583097Z",
     "shell.execute_reply": "2021-01-23T07:15:51.582569Z"
    },
    "papermill": {
     "duration": 262.032996,
     "end_time": "2021-01-23T07:15:51.583249",
     "exception": false,
     "start_time": "2021-01-23T07:11:29.550253",
     "status": "completed"
    },
    "tags": []
   },
   "outputs": [
    {
     "name": "stdout",
     "output_type": "stream",
     "text": [
      "Epoch 1/5\n",
      "4082/4082 [==============================] - 52s 13ms/step - loss: 0.1278 - accuracy: 0.9498 - val_loss: 0.1160 - val_accuracy: 0.9542\n",
      "Epoch 2/5\n",
      "4082/4082 [==============================] - 52s 13ms/step - loss: 0.1160 - accuracy: 0.9537 - val_loss: 0.1121 - val_accuracy: 0.9548\n",
      "Epoch 3/5\n",
      "4082/4082 [==============================] - 52s 13ms/step - loss: 0.1112 - accuracy: 0.9552 - val_loss: 0.1147 - val_accuracy: 0.9557\n",
      "Epoch 4/5\n",
      "4082/4082 [==============================] - 50s 12ms/step - loss: 0.1077 - accuracy: 0.9565 - val_loss: 0.1101 - val_accuracy: 0.9555\n",
      "Epoch 5/5\n",
      "4082/4082 [==============================] - 52s 13ms/step - loss: 0.1044 - accuracy: 0.9575 - val_loss: 0.1086 - val_accuracy: 0.9566\n"
     ]
    },
    {
     "data": {
      "text/plain": [
       "<tensorflow.python.keras.callbacks.History at 0x7f74b5c52450>"
      ]
     },
     "execution_count": 46,
     "metadata": {},
     "output_type": "execute_result"
    }
   ],
   "source": [
    "model_cnn_2.compile(loss=\"binary_crossentropy\",optimizer=\"adam\",metrics=[\"accuracy\"])\n",
    "model_cnn_2.fit(x_train,y_train,epochs=5,validation_data=(x_val,y_val),callbacks=my_callbacks,batch_size=256)"
   ]
  },
  {
   "cell_type": "code",
   "execution_count": 47,
   "metadata": {
    "execution": {
     "iopub.execute_input": "2021-01-23T07:16:00.814818Z",
     "iopub.status.busy": "2021-01-23T07:16:00.813909Z",
     "iopub.status.idle": "2021-01-23T07:16:18.480559Z",
     "shell.execute_reply": "2021-01-23T07:16:18.479596Z"
    },
    "papermill": {
     "duration": 22.200242,
     "end_time": "2021-01-23T07:16:18.480686",
     "exception": false,
     "start_time": "2021-01-23T07:15:56.280444",
     "status": "completed"
    },
    "tags": []
   },
   "outputs": [
    {
     "name": "stdout",
     "output_type": "stream",
     "text": [
      "AUC and ROC score is : 0.958631840954153\n",
      "F1_score : 0.6410433123045115\n"
     ]
    }
   ],
   "source": [
    "val_pre=model_cnn_2.predict(x_val)\n",
    "predicts=[]\n",
    "threshold=0.3\n",
    "for i in val_pre:\n",
    "    if(i<threshold):\n",
    "        predicts.append(0)\n",
    "    else:\n",
    "        predicts.append(1)\n",
    "\n",
    "print(\"AUC and ROC score is :\",metrics.roc_auc_score(y_val,val_pre))\n",
    "print(\"F1_score :\",metrics.f1_score(y_val,predicts))"
   ]
  },
  {
   "cell_type": "code",
   "execution_count": 48,
   "metadata": {
    "execution": {
     "iopub.execute_input": "2021-01-23T07:16:27.811239Z",
     "iopub.status.busy": "2021-01-23T07:16:27.810306Z",
     "iopub.status.idle": "2021-01-23T07:16:57.951923Z",
     "shell.execute_reply": "2021-01-23T07:16:57.952460Z"
    },
    "papermill": {
     "duration": 34.948875,
     "end_time": "2021-01-23T07:16:57.952622",
     "exception": false,
     "start_time": "2021-01-23T07:16:23.003747",
     "status": "completed"
    },
    "tags": []
   },
   "outputs": [
    {
     "name": "stderr",
     "output_type": "stream",
     "text": [
      "100%|██████████| 375806/375806 [00:02<00:00, 165179.87it/s]\n"
     ]
    }
   ],
   "source": [
    "df=Submission_file(model_cnn_2,\"submission.csv\")"
   ]
  },
  {
   "cell_type": "code",
   "execution_count": null,
   "metadata": {
    "papermill": {
     "duration": 4.840977,
     "end_time": "2021-01-23T07:17:07.456970",
     "exception": false,
     "start_time": "2021-01-23T07:17:02.615993",
     "status": "completed"
    },
    "tags": []
   },
   "outputs": [],
   "source": []
  }
 ],
 "metadata": {
  "kernelspec": {
   "display_name": "Python 3",
   "language": "python",
   "name": "python3"
  },
  "language_info": {
   "codemirror_mode": {
    "name": "ipython",
    "version": 3
   },
   "file_extension": ".py",
   "mimetype": "text/x-python",
   "name": "python",
   "nbconvert_exporter": "python",
   "pygments_lexer": "ipython3",
   "version": "3.7.6"
  },
  "papermill": {
   "duration": 1570.727798,
   "end_time": "2021-01-23T07:17:14.228726",
   "environment_variables": {},
   "exception": null,
   "input_path": "__notebook__.ipynb",
   "output_path": "__notebook__.ipynb",
   "parameters": {},
   "start_time": "2021-01-23T06:51:03.500928",
   "version": "2.1.0"
  }
 },
 "nbformat": 4,
 "nbformat_minor": 4
}
